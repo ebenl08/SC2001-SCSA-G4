{
 "cells": [
  {
   "cell_type": "markdown",
   "id": "c8600221",
   "metadata": {},
   "source": [
    "## SC2001 Project 3 - Knapsack\n",
    "\n"
   ]
  },
  {
   "cell_type": "markdown",
   "id": "08f60c87",
   "metadata": {},
   "source": [
    "###  **Problem Statement**\n",
    "\n",
    "Given a knapsack with a capacity weight of a positive integer $C$, and $N$ types of objects. For each $i^{th}$ object, it has positive weight $w_i$ and profit $p_i$ with $i \\in {[0, N - 1]}$.\n",
    "\n",
    "Suppose there are each objects are unlimited in supply, find the largest total profit from any set of objects that fits in the knapsack."
   ]
  },
  {
   "cell_type": "markdown",
   "id": "c3833fa6",
   "metadata": {},
   "source": [
    "### **Solution**\n",
    "\n",
    "Let us assume $P(C)$ as the maximum profit that can be achieved with knapsack of capacity $C$\n",
    "\n",
    "#### **Recursive Formula**\n",
    "Here **profit(j, c)** represents the maximum profit that can be achieved with knapsack of capacity **c** by fitting in any set of **j-first** objects in the given list of object.\n"
   ]
  },
  {
   "cell_type": "markdown",
   "id": "a1e80b8b",
   "metadata": {},
   "source": [
    "$$\n",
    "\\\n",
    "profit(j, c) = \\begin{cases}\n",
    "    0 & \\text{if } c=0 \\text{ or } j=0 \\\\[8pt]\n",
    "    profit(j-1, c) & \\text{if } c \\lt w_j \\\\[8pt]\n",
    "    \\displaystyle\n",
    "    \\max\\left\\{\n",
    "        \\begin{array}{l}\n",
    "            profit(j-1, c), & \\\\ \n",
    "            profit(j, c - w_j) + p_j, &\\\\ \n",
    "            profit(j - 1, c - w_j) + p_j\n",
    "        \\end{array}\n",
    "    \\right\\}, &\\text{otherwise } \n",
    "\\end{cases}\n",
    "\\\n",
    "$$"
   ]
  },
  {
   "cell_type": "markdown",
   "id": "f338b2bd",
   "metadata": {},
   "source": [
    "From the above formula, unlike the traditional 0/1 Knapsack problem, there are additional cases, $profit(j, c - w_j) + p_j$ that needs to be considered since the number of items that we are allowed to take is not restricted."
   ]
  },
  {
   "cell_type": "code",
   "execution_count": 1,
   "id": "f4134a9b",
   "metadata": {},
   "outputs": [],
   "source": [
    "def infinite_knapsack(N, C, w, p):\n",
    "  profit = [[0 for j in range(C + 1)] for i in range(N + 1)]\n",
    "  for item in range(1, N + 1):\n",
    "    for cap in range(1, C + 1):\n",
    "      if cap < w[item]:\n",
    "        profit[item][cap] = profit[item - 1][cap]\n",
    "      else:\n",
    "        profit[item][cap] = max(\n",
    "                profit[item - 1][cap], \n",
    "                p[item] + profit[item][cap - w[item]],\n",
    "                p[item] + profit[item - 1][cap - w[item]]\n",
    "            )\n",
    "  return profit"
   ]
  },
  {
   "cell_type": "code",
   "execution_count": 17,
   "id": "c87b029e",
   "metadata": {},
   "outputs": [],
   "source": [
    "def infinite_knapsack_1d(N, C, w, p):\n",
    "    profit = [0 for j in range(C + 1)]\n",
    "    for item in range(1, N + 1):\n",
    "        changed = True\n",
    "        while changed:\n",
    "            changed = False\n",
    "            for cap in range(C, 0, -1):\n",
    "                if cap < w[item]: continue\n",
    "                if profit[cap] < p[item] + profit[cap - w[item]]:\n",
    "                    profit[cap] = p[item] + profit[cap - w[item]]\n",
    "                    changed = True\n",
    "    return profit"
   ]
  },
  {
   "cell_type": "markdown",
   "id": "41c45d9d",
   "metadata": {},
   "source": [
    "### Supplementary Function"
   ]
  },
  {
   "cell_type": "code",
   "execution_count": 18,
   "id": "646dc6e9",
   "metadata": {},
   "outputs": [],
   "source": [
    "def find_item(N, C, w, profit):\n",
    "  item, cap = N, C\n",
    "  path = []\n",
    "  while item > 0 and cap > 0:\n",
    "    if profit[item][cap] == profit[item - 1][cap]:\n",
    "      item = item - 1\n",
    "    else:\n",
    "      cap = cap - w[item]\n",
    "      if cap < 0: break\n",
    "      path.append(item)\n",
    "  return path"
   ]
  },
  {
   "cell_type": "code",
   "execution_count": 19,
   "id": "e0590fac",
   "metadata": {},
   "outputs": [],
   "source": [
    "def print_2d(arr):\n",
    "  for row in arr:\n",
    "    for num in row:\n",
    "      print(f\"{num:<3}\", end=\" \")\n",
    "    print()"
   ]
  },
  {
   "cell_type": "markdown",
   "id": "415aae00",
   "metadata": {},
   "source": [
    "### Testing"
   ]
  },
  {
   "cell_type": "code",
   "execution_count": 20,
   "id": "cf66a6f5",
   "metadata": {},
   "outputs": [],
   "source": [
    "def try_knapsack(N, C, w, p):\n",
    "    profit = infinite_knapsack(N, C, w, p)\n",
    "    path = find_item(N, C, w, profit)\n",
    "\n",
    "    print(\"Knapsack Array: \"); print_2d(profit)\n",
    "    print(f\"Maximum Profit = {profit[N][C]}\")\n",
    "    print(f\"Taken Item History = {path}\")"
   ]
  },
  {
   "cell_type": "code",
   "execution_count": 21,
   "id": "1e470b38",
   "metadata": {},
   "outputs": [],
   "source": [
    "def try_knapsack_1d(N, C, w, p):\n",
    "    profit = infinite_knapsack_1d(N, C, w, p)\n",
    "    print(f\"Knapsack Array: {profit}\")\n",
    "    print(f\"Maximum Profit = {profit[C]}\")"
   ]
  },
  {
   "cell_type": "code",
   "execution_count": 23,
   "id": "60a8f7f0",
   "metadata": {},
   "outputs": [
    {
     "name": "stdout",
     "output_type": "stream",
     "text": [
      "Knapsack Array: \n",
      "0   0   0   0   0   0   0   0   0   0   0   0   0   0   0   \n",
      "0   0   0   0   7   7   7   7   14  14  14  14  21  21  21  \n",
      "0   0   0   0   7   7   7   7   14  14  14  14  21  21  21  \n",
      "0   0   0   0   7   7   7   7   14  14  14  14  21  21  21  \n",
      "Maximum Profit = 21\n",
      "Taken Item History = [1, 1, 1]\n",
      "\n",
      "Knapsack Array: [0, 0, 0, 0, 7, 7, 7, 7, 14, 14, 14, 14, 21, 21, 21]\n",
      "Maximum Profit = 21\n"
     ]
    }
   ],
   "source": [
    "# TEST CASE 1\n",
    "N = 3\n",
    "C = 14\n",
    "w = [0, 4, 6, 8]\n",
    "p = [0, 7, 6, 9]\n",
    "try_knapsack(N, C, w, p)\n",
    "print()\n",
    "try_knapsack_1d(N, C, w, p)"
   ]
  },
  {
   "cell_type": "code",
   "execution_count": 24,
   "id": "e7c04e65",
   "metadata": {},
   "outputs": [
    {
     "name": "stdout",
     "output_type": "stream",
     "text": [
      "Knapsack Array: \n",
      "0   0   0   0   0   0   0   0   0   0   0   0   0   0   0   \n",
      "0   0   0   0   0   7   7   7   7   7   14  14  14  14  14  \n",
      "0   0   0   0   0   7   7   7   7   7   14  14  14  14  14  \n",
      "0   0   0   0   0   7   7   7   9   9   14  14  14  16  16  \n",
      "Maximum Profit = 16\n",
      "Taken Item History = [3, 1]\n",
      "\n",
      "Knapsack Array: [0, 0, 0, 0, 0, 7, 7, 7, 9, 9, 14, 14, 14, 16, 16]\n",
      "Maximum Profit = 16\n"
     ]
    }
   ],
   "source": [
    "# TEST CASE 2\n",
    "N = 3\n",
    "C = 14\n",
    "w = [0, 5, 6, 8]\n",
    "p = [0, 7, 6, 9]\n",
    "try_knapsack(N, C, w, p)\n",
    "print()\n",
    "try_knapsack_1d(N, C, w, p)"
   ]
  },
  {
   "cell_type": "code",
   "execution_count": null,
   "id": "c4494508",
   "metadata": {},
   "outputs": [],
   "source": []
  }
 ],
 "metadata": {
  "kernelspec": {
   "display_name": ".venv",
   "language": "python",
   "name": "python3"
  },
  "language_info": {
   "codemirror_mode": {
    "name": "ipython",
    "version": 3
   },
   "file_extension": ".py",
   "mimetype": "text/x-python",
   "name": "python",
   "nbconvert_exporter": "python",
   "pygments_lexer": "ipython3",
   "version": "3.12.6"
  }
 },
 "nbformat": 4,
 "nbformat_minor": 5
}
