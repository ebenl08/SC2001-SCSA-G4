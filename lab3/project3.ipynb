{
 "cells": [
  {
   "cell_type": "markdown",
   "id": "dfa9c51f",
   "metadata": {},
   "source": [
    "### Recursive Definition\n",
    "\n",
    "Let **P(C)** be the maximum profit for a knapsack of capacity **C**.\n",
    "\n",
    "$$\n",
    "P(C) =\n",
    "\\begin{cases}\n",
    "0 & \\text{if } C = 0 \\\\\n",
    "\\max\\limits_{i : w_i \\leq C} (p_i + P(C - w_i)) & \\text{if } C > 0\n",
    "\\end{cases}\n",
    "$$\n",
    "\n",
    "This means:\n",
    "- If capacity = 0, profit = 0\n",
    "- Otherwise, try every item that can fit and take the best option.\n"
   ]
  },
  {
   "cell_type": "markdown",
   "id": "002d496e",
   "metadata": {},
   "source": [
    "### Subproblem Graph for $P(14)$\n",
    "\n",
    "Given:\n",
    "\n",
    "| i | $w_i$ | $p_i$ |\n",
    "|---|-------|-------|\n",
    "| 0 | 4     | 7     |\n",
    "| 1 | 6     | 6     |\n",
    "| 2 | 8     | 9     |\n",
    "\n",
    "- **P(14)**\n",
    "    - P(10)  (if we take weight 4)\n",
    "    - P(8)   (if we take weight 6)\n",
    "    - P(6)   (if we take weight 8)\n",
    "- **P(10)**\n",
    "    - P(6), P(4), P(2)\n",
    "- **P(8)**\n",
    "    - P(4), P(2), P(0)\n",
    "- **P(6)**\n",
    "    - P(2), P(0)\n"
   ]
  },
  {
   "cell_type": "markdown",
   "id": "a637b873",
   "metadata": {},
   "source": [
    "### Dynamic Programming (Bottom-Up Algorithm)"
   ]
  },
  {
   "cell_type": "code",
   "execution_count": 12,
   "id": "b86bd9dd",
   "metadata": {},
   "outputs": [],
   "source": [
    "def unbounded_knapsack(C, w, p):\n",
    "    n = len(w)\n",
    "    P = [0] * (C + 1)\n",
    "    taken = [None] * (C + 1) \n",
    "\n",
    "    for c in range(1, C + 1):\n",
    "        for i in range(n):\n",
    "            if w[i] <= c:\n",
    "                if P[c] < p[i] + P[c - w[i]]:\n",
    "                    P[c] = p[i] + P[c - w[i]]\n",
    "                    taken[c] = i\n",
    "\n",
    "    return P, taken"
   ]
  },
  {
   "cell_type": "markdown",
   "id": "b7fd63a9",
   "metadata": {},
   "source": [
    "#### Case 1"
   ]
  },
  {
   "cell_type": "code",
   "execution_count": null,
   "id": "a859a791",
   "metadata": {},
   "outputs": [
    {
     "name": "stdout",
     "output_type": "stream",
     "text": [
      "Maximum Profit P(14) = 21\n",
      "DP Table:\n",
      "P(0) = 0 Items taken: []\n",
      "P(1) = 0 Items taken: []\n",
      "P(2) = 0 Items taken: []\n",
      "P(3) = 0 Items taken: []\n",
      "P(4) = 7 Items taken: [0]\n",
      "P(5) = 7 Items taken: [0]\n",
      "P(6) = 7 Items taken: [0]\n",
      "P(7) = 7 Items taken: [0]\n",
      "P(8) = 14 Items taken: [0, 0]\n",
      "P(9) = 14 Items taken: [0, 0]\n",
      "P(10) = 14 Items taken: [0, 0]\n",
      "P(11) = 14 Items taken: [0, 0]\n",
      "P(12) = 21 Items taken: [0, 0, 0]\n",
      "P(13) = 21 Items taken: [0, 0, 0]\n",
      "P(14) = 21 Items taken: [0, 0, 0]\n"
     ]
    }
   ],
   "source": [
    "weights = [4, 6, 8]\n",
    "profits = [7, 6, 9]\n",
    "C = 14\n",
    "\n",
    "P, taken = unbounded_knapsack(C, weights, profits)\n",
    "print(\"Maximum Profit P(14) =\", P[14])\n",
    "print(\"DP Table:\")\n",
    "for i in range(len(P)):\n",
    "    history = []\n",
    "    c = i\n",
    "    while c > 0 and taken[c] is not None:\n",
    "        history.append(taken[c])\n",
    "        c -= weights[taken[c]]\n",
    "    print(f\"P({i}) = {P[i]}\", end=' ')\n",
    "    print(f\"Items taken: {history}\")\n"
   ]
  },
  {
   "cell_type": "markdown",
   "id": "df19d718",
   "metadata": {},
   "source": [
    "#### Case 2"
   ]
  },
  {
   "cell_type": "code",
   "execution_count": 18,
   "id": "b7cc8e9b",
   "metadata": {},
   "outputs": [
    {
     "name": "stdout",
     "output_type": "stream",
     "text": [
      "Maximum Profit P(14) = 16\n",
      "DP Table:\n",
      "P(0) = 0 Items taken: []\n",
      "P(1) = 0 Items taken: []\n",
      "P(2) = 0 Items taken: []\n",
      "P(3) = 0 Items taken: []\n",
      "P(4) = 0 Items taken: []\n",
      "P(5) = 7 Items taken: [0]\n",
      "P(6) = 7 Items taken: [0]\n",
      "P(7) = 7 Items taken: [0]\n",
      "P(8) = 9 Items taken: [2]\n",
      "P(9) = 9 Items taken: [2]\n",
      "P(10) = 14 Items taken: [0, 0]\n",
      "P(11) = 14 Items taken: [0, 0]\n",
      "P(12) = 14 Items taken: [0, 0]\n",
      "P(13) = 16 Items taken: [0, 2]\n",
      "P(14) = 16 Items taken: [0, 2]\n"
     ]
    }
   ],
   "source": [
    "weights = [5, 6, 8]\n",
    "profits = [7, 6, 9]\n",
    "C = 14\n",
    "\n",
    "P, taken = unbounded_knapsack(C, weights, profits)\n",
    "print(\"Maximum Profit P(14) =\", P[14])\n",
    "print(\"DP Table:\")\n",
    "for i in range(len(P)):\n",
    "    history = []\n",
    "    c = i\n",
    "    while c > 0 and taken[c] is not None:\n",
    "        history.append(taken[c])\n",
    "        c -= weights[taken[c]]\n",
    "    print(f\"P({i}) = {P[i]}\", end=' ')\n",
    "    print(f\"Items taken: {history}\")"
   ]
  }
 ],
 "metadata": {
  "kernelspec": {
   "display_name": "Python 3",
   "language": "python",
   "name": "python3"
  },
  "language_info": {
   "codemirror_mode": {
    "name": "ipython",
    "version": 3
   },
   "file_extension": ".py",
   "mimetype": "text/x-python",
   "name": "python",
   "nbconvert_exporter": "python",
   "pygments_lexer": "ipython3",
   "version": "3.12.2"
  }
 },
 "nbformat": 4,
 "nbformat_minor": 5
}
